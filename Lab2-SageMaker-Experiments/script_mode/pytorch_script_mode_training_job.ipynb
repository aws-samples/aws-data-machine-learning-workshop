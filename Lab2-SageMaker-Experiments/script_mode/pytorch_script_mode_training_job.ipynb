{
 "cells": [
  {
   "cell_type": "markdown",
   "id": "de7e4dca-3653-4bf6-80a0-d964492d1d91",
   "metadata": {},
   "source": [
    "# Track an experiment while training a Pytorch model with a SageMaker Training Job\n",
    "\n",
    "This notebook shows how you can use the SageMaker SDK to track a Machine Learning experiment using a Pytorch model trained in a SageMaker Training Job with Script mode, where you will provide the model script file.\n",
    "\n",
    "We introduce two concepts in this notebook -\n",
    "\n",
    "* *Experiment:* An experiment is a collection of runs. When you initialize a run in your training loop, you include the name of the experiment that the run belongs to. Experiment names must be unique within your AWS account. \n",
    "* *Run:* A run consists of all the inputs, parameters, configurations, and results for one iteration of model training. Initialize an experiment run for tracking a training job with Run(). \n",
    "\n",
    "\n",
    "To execute this notebook in SageMaker Studio, you should select the `PyTorch 1.12 Python 3.8 CPU Optimizer` image.\n",
    "\n",
    "\n",
    "You can track artifacts for experiments, including datasets, algorithms, hyperparameters and metrics. Experiments executed on SageMaker such as SageMaker training jobs are automatically tracked and any existen SageMaker experiment on your AWS account is automatically migrated to the new UI version.\n",
    "\n",
    "In this notebook we will demonstrate the capabilities through an MNIST handwritten digits classification example. The notebook is organized as follow:\n",
    "\n",
    "1. Train a Convolutional Neural Network (CNN) Model and log the model training metrics\n",
    "1. Tune the hyperparameters that configures the number of hidden channels and the optimized in the model. Track teh parameter's configuration, resulting model loss and accuracy and automatically plot a confusion matrix using the Experiments capabilities of the SageMaker SDK.\n",
    "1. Analyse your model results and plot graphs comparing your model different runs generated from the tunning step 3.\n",
    "\n",
    "## Runtime\n",
    "This notebook takes approximately 20 minutes to run.\n",
    "\n",
    "## Contents\n",
    "1. [Install modules](#Install-modules)\n",
    "1. [Setup](#Setup)\n",
    "1. [Create model training script](#Create-model-training-script)\n",
    "1. [Train model with Run context](#Train-model-with-Run-context)\n",
    "1. [Contact](#Contact)"
   ]
  },
  {
   "cell_type": "markdown",
   "id": "1141d3f8-45ed-4a56-8651-8964446befac",
   "metadata": {},
   "source": [
    "## Install modules\n",
    "\n",
    "Let's ensure we have the latest SageMaker SDK available, including the SageMaker Experiments functionality"
   ]
  },
  {
   "cell_type": "code",
   "execution_count": 8,
   "id": "10cd82dd-171d-452c-be6a-b534cd5cb4e3",
   "metadata": {
    "collapsed": true,
    "jupyter": {
     "outputs_hidden": true
    },
    "tags": []
   },
   "outputs": [
    {
     "name": "stdout",
     "output_type": "stream",
     "text": [
      "asttokens==2.0.5\n",
      "attrs==20.3.0\n",
      "awscli==1.22.68\n",
      "awsio @ https://aws-s3-plugin.s3.us-west-2.amazonaws.com/binaries/0.0.1/1c3e69e/awsio-0.0.1-cp38-cp38-manylinux1_x86_64.whl\n",
      "backcall==0.2.0\n",
      "bcrypt==3.2.0\n",
      "black==22.1.0\n",
      "bokeh==2.4.2\n",
      "boto3==1.26.53\n",
      "botocore==1.29.53\n",
      "Bottleneck==1.3.2\n",
      "brotlipy==0.7.0\n",
      "certifi==2021.10.8\n",
      "cffi @ file:///home/conda/feedstock_root/build_artifacts/cffi_1625835293160/work\n",
      "charset-normalizer @ file:///tmp/build/80754af9/charset-normalizer_1630003229654/work\n",
      "click==8.0.4\n",
      "cloudpickle==2.0.0\n",
      "colorama==0.4.3\n",
      "conda==4.11.0\n",
      "conda-package-handling @ file:///home/conda/feedstock_root/build_artifacts/conda-package-handling_1618231394280/work\n",
      "contextlib2==21.6.0\n",
      "cryptography==36.0.1\n",
      "cycler==0.11.0\n",
      "Cython @ file:///tmp/build/80754af9/cython_1594831566883/work\n",
      "decorator==5.1.1\n",
      "dill==0.3.4\n",
      "docutils==0.15.2\n",
      "executing==0.8.3\n",
      "fonttools==4.29.1\n",
      "fsspec==2022.2.0\n",
      "gevent==21.12.0\n",
      "google-pasta==0.2.0\n",
      "greenlet==1.1.2\n",
      "h5py @ file:///tmp/build/80754af9/h5py_1637138879700/work\n",
      "idna @ file:///tmp/build/80754af9/idna_1637925883363/work\n",
      "imageio==2.16.1\n",
      "importlib-metadata==4.11.2\n",
      "inotify-simple==1.2.1\n",
      "ipykernel==5.5.6\n",
      "ipython==8.0.1\n",
      "ipython-genutils==0.2.0\n",
      "jedi==0.18.1\n",
      "Jinja2==3.0.3\n",
      "jmespath==0.10.0\n",
      "joblib @ file:///tmp/build/80754af9/joblib_1635411271373/work\n",
      "jupyter-client==6.1.5\n",
      "jupyter-core==4.9.2\n",
      "kiwisolver==1.3.2\n",
      "llvmlite==0.36.0\n",
      "MarkupSafe==2.1.0\n",
      "matplotlib==3.5.1\n",
      "matplotlib-inline==0.1.3\n",
      "multiprocess==0.70.12.2\n",
      "mypy-extensions==0.4.3\n",
      "numba==0.53.1\n",
      "numexpr @ file:///tmp/build/80754af9/numexpr_1640704205910/work\n",
      "numpy==1.22.2\n",
      "opencv-python==4.5.5.62\n",
      "packaging @ file:///tmp/build/80754af9/packaging_1637314298585/work\n",
      "pandas==1.4.1\n",
      "paramiko==2.9.2\n",
      "parso==0.8.3\n",
      "pathos==0.2.8\n",
      "pathspec==0.9.0\n",
      "pexpect==4.8.0\n",
      "pickleshare==0.7.5\n",
      "Pillow==9.0.1\n",
      "platformdirs==2.5.1\n",
      "plotly==5.6.0\n",
      "pox==0.3.0\n",
      "ppft==1.6.6.4\n",
      "prompt-toolkit==3.0.36\n",
      "protobuf==3.19.4\n",
      "protobuf3-to-dict==0.1.5\n",
      "psutil==5.6.7\n",
      "ptyprocess==0.7.0\n",
      "pure-eval==0.2.2\n",
      "pyarrow==7.0.0\n",
      "pyasn1==0.4.8\n",
      "pycosat @ file:///home/conda/feedstock_root/build_artifacts/pycosat_1610094800877/work\n",
      "pycparser @ file:///tmp/build/80754af9/pycparser_1636541352034/work\n",
      "pyfunctional==1.4.3\n",
      "Pygments==2.14.0\n",
      "pyinstrument==3.4.2\n",
      "pyinstrument-cext==0.2.4\n",
      "PyNaCl==1.5.0\n",
      "pyOpenSSL @ file:///tmp/build/80754af9/pyopenssl_1594392929924/work\n",
      "pyparsing==3.0.7\n",
      "PySocks @ file:///home/conda/feedstock_root/build_artifacts/pysocks_1635862404924/work\n",
      "python-dateutil @ file:///tmp/build/80754af9/python-dateutil_1626374649649/work\n",
      "pytz==2021.3\n",
      "PyYAML==5.4.1\n",
      "pyzmq==19.0.0\n",
      "requests @ file:///opt/conda/conda-bld/requests_1641824580448/work\n",
      "retrying==1.3.3\n",
      "rsa==4.7.2\n",
      "ruamel-yaml-conda @ file:///tmp/build/80754af9/ruamel_yaml_1616016699510/work\n",
      "s3fs==0.4.2\n",
      "s3transfer==0.6.0\n",
      "sagemaker==2.129.0\n",
      "sagemaker-experiments==0.1.35\n",
      "sagemaker-pytorch-training==2.4.0\n",
      "sagemaker-training==4.0.1\n",
      "schema==0.7.5\n",
      "scikit-learn @ file:///tmp/build/80754af9/scikit-learn_1642617107864/work\n",
      "scipy==1.8.0\n",
      "seaborn==0.11.2\n",
      "shap==0.40.0\n",
      "six @ file:///tmp/build/80754af9/six_1644875935023/work\n",
      "sklearn==0.0\n",
      "slicer==0.0.7\n",
      "smclarify==0.2\n",
      "smdebug==1.0.13b20220304\n",
      "smdebug-rulesconfig==1.0.1\n",
      "stack-data==0.2.0\n",
      "tabulate==0.8.9\n",
      "tenacity==8.0.1\n",
      "threadpoolctl @ file:///Users/ktietz/demo/mc3/conda-bld/threadpoolctl_1629802263681/work\n",
      "tomli==2.0.1\n",
      "torch @ https://aws-pytorch-cicd-v3-binaries.s3.us-west-2.amazonaws.com/r1.10.2_aws_v3/20220209-025350/bea1183a47174ef43ab9874c643357fa77755932/cpu/torch-1.10.2%2Bcpu-cp38-cp38-manylinux1_x86_64.whl\n",
      "torchvision @ https://framework-binaries.s3.us-west-2.amazonaws.com/pytorch/1.10.2/torchvision-0.11.3%2Bcpu-cp38-cp38-linux_x86_64.whl\n",
      "tornado==6.1\n",
      "tqdm @ file:///tmp/build/80754af9/tqdm_1635330843403/work\n",
      "traitlets==5.1.1\n",
      "typing_extensions==4.1.1\n",
      "urllib3 @ file:///opt/conda/conda-bld/urllib3_1643638302206/work\n",
      "wcwidth==0.2.5\n",
      "Werkzeug==2.0.3\n",
      "zipp==3.7.0\n",
      "zope.event==4.5.0\n",
      "zope.interface==5.4.0\n"
     ]
    }
   ],
   "source": [
    "!pip freeze"
   ]
  },
  {
   "cell_type": "code",
   "execution_count": null,
   "id": "ad635414-188d-4459-9e05-231f82f8054e",
   "metadata": {
    "jp-MarkdownHeadingCollapsed": true,
    "tags": []
   },
   "outputs": [],
   "source": [
    "# update boto3 and sagemaker to ensure latest SDK version\n",
    "%pip install --upgrade pip\n",
    "%pip install --upgrade boto3\n",
    "%pip install --upgrade sagemaker\n",
    "%pip install torch\n",
    "%pip install torchvision\n",
    "%pip install --upgrade seaborn"
   ]
  },
  {
   "cell_type": "markdown",
   "id": "3368d208-aebb-4844-bf27-2b2e373ef3d2",
   "metadata": {
    "tags": []
   },
   "source": [
    "## Setup\n",
    "\n",
    "Import required libraries and set logging and experiment configuration\n",
    "\n",
    "SageMaker Experiments now provides the `Run` class that allows you to create a new experiment run. "
   ]
  },
  {
   "cell_type": "code",
   "execution_count": null,
   "id": "5c4aa28d-25e3-4ade-a19e-2f6a36099570",
   "metadata": {
    "tags": []
   },
   "outputs": [],
   "source": [
    "from sagemaker import get_execution_role\n",
    "from sagemaker.experiments.run import Run, load_run\n",
    "from sagemaker.pytorch import PyTorch\n",
    "from sagemaker.session import Session\n",
    "from sagemaker.utils import name_from_base"
   ]
  },
  {
   "cell_type": "code",
   "execution_count": null,
   "id": "3877f90a-d680-4f9e-badf-d2bb4d19783a",
   "metadata": {
    "tags": []
   },
   "outputs": [],
   "source": [
    "role = get_execution_role()\n",
    "region = Session().boto_session.region_name"
   ]
  },
  {
   "cell_type": "markdown",
   "id": "d9dc0054-d7dd-4ec8-b1e9-0b292fc7b1c0",
   "metadata": {},
   "source": [
    "## Check model training script\n",
    "* Optional Step: check *`mnist.py`* using the cell below, the pytorch script file to train our model."
   ]
  },
  {
   "cell_type": "code",
   "execution_count": null,
   "id": "20c6e08a-92d3-4819-a080-4858337813cf",
   "metadata": {
    "tags": []
   },
   "outputs": [],
   "source": [
    "%load  ./script/mnist.py"
   ]
  },
  {
   "cell_type": "markdown",
   "id": "0342b174-1d33-4b27-a7cd-28571f1a1507",
   "metadata": {},
   "source": [
    "The cell above implements the code necessary to train our PyTorch model in SageMaker, using the SageMaker PyTorch image. It uses the `load_run` function to automatically detect the experiment configuration and `run.log_parameter`, `run.log_parameters`, `run.log_file`, `run.log_metric` and `run.log_confusion_matrix` to track the model training"
   ]
  },
  {
   "cell_type": "markdown",
   "id": "cc1913d9-fe5f-4cf1-aca6-c6f6c12bd21c",
   "metadata": {},
   "source": [
    "## Train model with Run context\n",
    "\n",
    "Let's now train the model with passing the experiement run context to the training job\n",
    "\n",
    "For detailed explanation of API run, refer to source code [here](https://github.com/aws/sagemaker-python-sdk/blob/master/src/sagemaker/experiments/run.py)"
   ]
  },
  {
   "cell_type": "code",
   "execution_count": null,
   "id": "83c6d1dc-9d7e-4dbb-9957-2a5fb16f8527",
   "metadata": {
    "tags": []
   },
   "outputs": [],
   "source": [
    "# set new experiment configuration\n",
    "experiment_name = \"training-job-experiment\"\n",
    "run_name_base = \"run-example\"\n",
    "run_name = name_from_base(run_name_base, short=True)\n",
    "print(f\"Experiment name: {experiment_name}\\nRun name: {run_name}\")"
   ]
  },
  {
   "cell_type": "code",
   "execution_count": null,
   "id": "93f266e0-d73d-452c-a3ed-51b0fc48075d",
   "metadata": {
    "tags": []
   },
   "outputs": [],
   "source": [
    "%%time\n",
    "# Start training job with experiment setting\n",
    "with Run(experiment_name=experiment_name, run_name=run_name, sagemaker_session=Session()) as run:\n",
    "    estmator = PyTorch(\n",
    "        entry_point=\"mnist.py\",\n",
    "        source_dir=\"script\",\n",
    "        role=role,\n",
    "        model_dir=False,\n",
    "        framework_version=\"1.12\",\n",
    "        py_version=\"py38\",\n",
    "        instance_type=\"ml.c5.xlarge\",\n",
    "        instance_count=1,\n",
    "        hyperparameters={\"epochs\": 8, \"hidden_channels\": 5, \"optimizer\": \"adam\"},\n",
    "        keep_alive_period_in_seconds=3600,\n",
    "    )\n",
    "\n",
    "    estmator.fit()"
   ]
  },
  {
   "cell_type": "markdown",
   "id": "259c4fca-5128-4213-8065-cb68bd50b973",
   "metadata": {
    "tags": []
   },
   "source": [
    "Checking the SageMaker Experiments UI, you can observe the Experiment run, populated with the metrics and parameters logged. We can also see the automatically generated outputs for the model data\n",
    "\n",
    "\n",
    "<img src=\"images/sm_training_exp_overview.png\" width=\"100%\" style=\"float: left;\" />\n",
    "<img src=\"images/sm_training_inputs.png\" width=\"100%\" style=\"float: left;\" />\n",
    "<img src=\"images/sm_training_parameters.png\" width=\"100%\" style=\"float: left;\" />\n",
    "<img src=\"images/sm_training_metrics.png\" width=\"100%\" style=\"float: left;\" />\n",
    "<img src=\"images/sm_training_outputs.png\" width=\"100%\" style=\"float: left;\" />"
   ]
  },
  {
   "cell_type": "markdown",
   "id": "61561b3e-0f87-4d53-8369-83a193121f34",
   "metadata": {},
   "source": [
    "## Run multiple experiments\n",
    "\n",
    "You can now create multiple runs of your experiment by varying a few parameters. Feel free to play with the parameters. "
   ]
  },
  {
   "cell_type": "code",
   "execution_count": null,
   "id": "c8e4f80b-01ec-415b-8e80-507bbeadc402",
   "metadata": {
    "tags": []
   },
   "outputs": [],
   "source": [
    "%%time\n",
    "# Start training job with experiment setting\n",
    "\n",
    "hidden_channels = [5, 10]\n",
    "optimizer = [\"adam\", \"sgd\"]\n",
    "\n",
    "for h in hidden_channels:\n",
    "    for j in optimizer:\n",
    "        run_name_n = f\"{run_name_base}-{j}-{h}\"\n",
    "        with Run(experiment_name=experiment_name, run_name=run_name_n) as run:\n",
    "            print(\"hidden_channels-\", h, \" optimizer-\", j)\n",
    "            estmator = PyTorch(\n",
    "                entry_point=\"./script/mnist.py\",\n",
    "                role=role,\n",
    "                model_dir=False,\n",
    "                framework_version=\"1.12\",\n",
    "                py_version=\"py38\",\n",
    "                instance_type=\"ml.c5.xlarge\",\n",
    "                instance_count=1,\n",
    "                hyperparameters={\n",
    "                    \"epochs\": 10,\n",
    "                    \"hidden_channels\": h,\n",
    "                    \"optimizer\": j,\n",
    "                },\n",
    "                keep_alive_period_in_seconds=1200,  # use warm pool\n",
    "            )\n",
    "\n",
    "            estmator.fit(wait=True)"
   ]
  },
  {
   "cell_type": "markdown",
   "id": "95f58280-c71b-4ad7-b084-7e65e79673ea",
   "metadata": {},
   "source": [
    "## Compare the performance through Experiment UI\n",
    "\n",
    "In the SageMaker Experiments UI, you can compare the different runs and analyze the metrics for those runs \n",
    "\n",
    "\n",
    "<img src=\"images/compare_experiments.png\" wname_from_base=\"100%\"/>\n"
   ]
  },
  {
   "cell_type": "markdown",
   "id": "4f4a2125-3fd9-48b4-92eb-6b0408e0f5ce",
   "metadata": {},
   "source": [
    "## Bonus Point: customized analysis \n",
    "\n",
    "Besides all the built-in analysis withn Experiments, you can also customize your analysis and plot based on available metrics and parameter!\n",
    "\n",
    "Below, we have provided you an example for your reference. \n",
    "\n",
    "This analsis is built on top of [Experiment Analysis API](https://sagemaker.readthedocs.io/en/stable/api/training/analytics.html)"
   ]
  },
  {
   "cell_type": "code",
   "execution_count": 2,
   "id": "43c03b10-cc26-4c12-8310-08d84ec5d292",
   "metadata": {
    "tags": []
   },
   "outputs": [],
   "source": [
    "import matplotlib as mpl\n",
    "import matplotlib.pyplot as plt\n",
    "import seaborn as sns\n",
    "import seaborn.objects as so\n",
    "from sagemaker.analytics import ExperimentAnalytics"
   ]
  },
  {
   "cell_type": "code",
   "execution_count": 3,
   "id": "71e349de-5771-4404-8d1d-45c807638e6d",
   "metadata": {
    "tags": []
   },
   "outputs": [],
   "source": [
    "def analyze_experiment(experiment_name:str ,parameter_names: str, metric_names: str, stat_name: str = \"Last\"):\n",
    "    re_expr = (\n",
    "        f\"(?:{'|'.join([f'{k}.*- {stat_name}' for k in metric_names] + parameter_names + ['DisplayName'])})\"\n",
    "    )\n",
    "\n",
    "    trial_component_analytics = ExperimentAnalytics(\n",
    "        experiment_name=experiment_name,\n",
    "        parameter_names=parameter_names,\n",
    "    )\n",
    "    df = trial_component_analytics.dataframe()\n",
    "    df = df[df[\"SourceArn\"].isna()]\n",
    "    df = df.filter(regex=re_expr)\n",
    "\n",
    "    # join the categorical parameters\n",
    "    df_temp = df[parameter_names].select_dtypes(\"object\")\n",
    "\n",
    "    cat_col_name = \"_\".join(df_temp.columns.values)\n",
    "\n",
    "    if len(df_temp.columns) > 1:\n",
    "        df.loc[:, cat_col_name] = df_temp.astype(str).apply(\"_\".join, axis=1)\n",
    "        df = df.drop(columns=df_temp.columns.values)\n",
    "\n",
    "    ordinal_params = df[parameter_names].select_dtypes(\"number\").columns.tolist()\n",
    "    df_plot = df.melt(id_vars=[\"DisplayName\"] + ordinal_params + [cat_col_name])\n",
    "    df_plot[[\"Dataset\", \"Metrics\"]] = (\n",
    "        df_plot.variable.str.split(\" - \").str[0].str.split(\":\", expand=True)\n",
    "    )\n",
    "    f = plt.Figure(\n",
    "        figsize=(8, 6 * len(ordinal_params)),\n",
    "        facecolor=\"w\",\n",
    "        layout=\"constrained\",\n",
    "        frameon=True,\n",
    "    )\n",
    "    f.suptitle(\"Experiment Analysis\")\n",
    "    sf = f.subfigures(1, len(ordinal_params))\n",
    "\n",
    "    if isinstance(sf, mpl.figure.SubFigure):\n",
    "        sf = [sf]\n",
    "\n",
    "    for k, p in zip(sf, ordinal_params):\n",
    "\n",
    "        (\n",
    "            so.Plot(\n",
    "                df_plot,\n",
    "                y=\"value\",\n",
    "                x=p,\n",
    "                color=cat_col_name,\n",
    "            )\n",
    "            .facet(col=\"Dataset\", row=\"Metrics\")\n",
    "            .add(so.Dot())\n",
    "            .share(y=False)\n",
    "            .limit(y=(0, None))\n",
    "            .on(k)\n",
    "            .plot()\n",
    "        )\n",
    "    return f"
   ]
  },
  {
   "cell_type": "code",
   "execution_count": null,
   "id": "013de6d2-ce25-4079-911b-bebca8429d29",
   "metadata": {
    "tags": []
   },
   "outputs": [],
   "source": [
    "experiment_name=\"<your-experiment>\"\n",
    "\n",
    "parameter_names = [\"hidden_channels\", \"optimizer\"]\n",
    "metric_names = [\"accuracy\", \"loss\"]\n",
    "stat_name = \"Last\"\n",
    "\n",
    "\n",
    "analyze_experiment(experiment_name, parameter_names, metric_names)"
   ]
  }
 ],
 "metadata": {
  "forced_instance_type": "ml.t3.medium",
  "forced_lcc_arn": "",
  "instance_type": "ml.m5.large",
  "kernelspec": {
   "display_name": "Python 3 (PyTorch 1.10 Python 3.8 CPU Optimized)",
   "language": "python",
   "name": "python3__SAGEMAKER_INTERNAL__arn:aws:sagemaker:ap-southeast-2:452832661640:image/pytorch-1.10-cpu-py38"
  },
  "language_info": {
   "codemirror_mode": {
    "name": "ipython",
    "version": 3
   },
   "file_extension": ".py",
   "mimetype": "text/x-python",
   "name": "python",
   "nbconvert_exporter": "python",
   "pygments_lexer": "ipython3",
   "version": "3.8.10"
  }
 },
 "nbformat": 4,
 "nbformat_minor": 5
}
